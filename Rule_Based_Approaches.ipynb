{
  "nbformat": 4,
  "nbformat_minor": 0,
  "metadata": {
    "kernelspec": {
      "display_name": "Python 3",
      "language": "python",
      "name": "python3"
    },
    "language_info": {
      "codemirror_mode": {
        "name": "ipython",
        "version": 3
      },
      "file_extension": ".py",
      "mimetype": "text/x-python",
      "name": "python",
      "nbconvert_exporter": "python",
      "pygments_lexer": "ipython3",
      "version": "3.7.6"
    },
    "colab": {
      "name": "Rule Based Approaches.ipynb",
      "provenance": [],
      "collapsed_sections": [],
      "include_colab_link": true
    }
  },
  "cells": [
    {
      "cell_type": "markdown",
      "metadata": {
        "id": "view-in-github",
        "colab_type": "text"
      },
      "source": [
        "<a href=\"https://colab.research.google.com/github/bharathkumar-kancharla/Natural-Language-Processing/blob/master/Rule_Based_Approaches.ipynb\" target=\"_parent\"><img src=\"https://colab.research.google.com/assets/colab-badge.svg\" alt=\"Open In Colab\"/></a>"
      ]
    },
    {
      "cell_type": "markdown",
      "metadata": {
        "id": "a_WueQ2M-Tag",
        "colab_type": "text"
      },
      "source": [
        "# Rule Based Approach"
      ]
    },
    {
      "cell_type": "markdown",
      "metadata": {
        "id": "fuF1mHTW-Tai",
        "colab_type": "text"
      },
      "source": [
        "## Regular Expressions\n",
        "\n",
        "[Python re module – Documentation](https://docs.python.org/3/library/re.html)\n",
        "\n",
        "[regex cheat sheet](https://github.com/tartley/python-regex-cheatsheet/blob/master/cheatsheet.rst)\n",
        "\n",
        "[Validate regex patterns](https://pythex.org/)"
      ]
    },
    {
      "cell_type": "code",
      "metadata": {
        "id": "b8bY1S9D-Taj",
        "colab_type": "code",
        "colab": {}
      },
      "source": [
        "import re"
      ],
      "execution_count": 0,
      "outputs": []
    },
    {
      "cell_type": "code",
      "metadata": {
        "id": "W1fAOYA2e4cK",
        "colab_type": "code",
        "colab": {
          "base_uri": "https://localhost:8080/",
          "height": 34
        },
        "outputId": "bf57469d-2f05-4d62-e710-59cb9a165117"
      },
      "source": [
        "# Extracting model information from product string\n",
        "model_string = \"SAMSUNG Galaxy M21 4GB RAM 64GB\"\n",
        "model_string = model_string.replace('SAMSUNG','')\n",
        "model = re.sub(\"\\d+GB\\s{1,5}RAM|\\d+GB|\\d+\\s{0,5}G\", \n",
        "                                   \"\",model_string).strip()\n",
        "model"
      ],
      "execution_count": 2,
      "outputs": [
        {
          "output_type": "execute_result",
          "data": {
            "text/plain": [
              "'Galaxy M21'"
            ]
          },
          "metadata": {
            "tags": []
          },
          "execution_count": 2
        }
      ]
    },
    {
      "cell_type": "markdown",
      "metadata": {
        "id": "_I4dE8jR-Taq",
        "colab_type": "text"
      },
      "source": [
        "**Syntax:** It is study of rules governing the way words are combined to form sentences in a language\n",
        "\n",
        "> Sentences are composed of discrete units combined by rules\n",
        "\n",
        "Syntax tree is a tree representation of syntactic structure of sentences or strings"
      ]
    },
    {
      "cell_type": "markdown",
      "metadata": {
        "id": "x-zoN87G-Tap",
        "colab_type": "text"
      },
      "source": [
        "## Context-free grammar\n",
        "\n",
        "- List of rules that define the set of well-formed sentences in a language\n",
        "- The context-free grammars show us what would be the rules to produce some words\n",
        "- Each rule has a left-hand side, which identifies a syntactic category, and a right-hand side, which defines its alternative component parts, reading from left to right\n",
        "\n",
        "<img src='http://www.bowdoin.edu/~allen/nlp/fig2.GIF'>\n",
        "\n",
        "To Readmore on context-free grammar [click here](http://www.bowdoin.edu/~allen/nlp/nlp1.html)\n",
        "\n",
        "\n",
        "[Automata](https://www.tutorialspoint.com/automata_theory/introduction_to_grammars.htm) is the field to study how system is understanding natural language processing."
      ]
    },
    {
      "cell_type": "markdown",
      "metadata": {
        "id": "GuYUs-Bz-Tar",
        "colab_type": "text"
      },
      "source": [
        "To create the syntax tree in the notebook, we need to download ghostscript [here](https://www.ghostscript.com/download/gsdnld.html) and add bin folder to the path variable\n",
        "\n",
        "- Ghost scripts contains all the rules defined for the language"
      ]
    },
    {
      "cell_type": "markdown",
      "metadata": {
        "id": "f2I0GJ1eHj-X",
        "colab_type": "text"
      },
      "source": [
        "### Chuncking\n",
        "\n",
        "Using modified regular expressions, we can define chunk patterns. These are patterns of part-of-speech tags that define what kinds of words make up a *chunk*. We can also define patterns for what kinds of words should not be in a *chunk*. These unchunked words are known as *chinks*.\n",
        "\n",
        "**chunking** creates chunks, while **chinking** breaks up those chunks"
      ]
    },
    {
      "cell_type": "code",
      "metadata": {
        "id": "0RV1OY83-Tas",
        "colab_type": "code",
        "colab": {}
      },
      "source": [
        "import os\n",
        "path_to_gs =\"\"\n",
        "\n",
        "os.environ['PATH'] += os.pathsep + path_to_gs  #modifying the enviornment variable"
      ],
      "execution_count": 0,
      "outputs": []
    },
    {
      "cell_type": "code",
      "metadata": {
        "id": "fIBa7JeG-Tax",
        "colab_type": "code",
        "colab": {}
      },
      "source": [
        "import nltk\n",
        "import nltk.corpus\n",
        "from nltk.tokenize import word_tokenize\n",
        "from nltk.tokenize import RegexpTokenizer\n",
        "from nltk.data import load #To Access the inbulit data"
      ],
      "execution_count": 0,
      "outputs": []
    },
    {
      "cell_type": "code",
      "metadata": {
        "id": "w61q6gJq-Ta2",
        "colab_type": "code",
        "colab": {}
      },
      "source": [
        "sent = 'we are learning about chunking, which is sub-topic in NLP'"
      ],
      "execution_count": 0,
      "outputs": []
    },
    {
      "cell_type": "code",
      "metadata": {
        "id": "LDKBct-I-Ta7",
        "colab_type": "code",
        "colab": {
          "base_uri": "https://localhost:8080/",
          "height": 136
        },
        "outputId": "427ef8f6-c5c9-40be-d88c-f13843bec1b3"
      },
      "source": [
        "nltk.download('punkt')  #punkt resource is required to tokenize the sentence\n",
        "nltk.download('averaged_perceptron_tagger')"
      ],
      "execution_count": 6,
      "outputs": [
        {
          "output_type": "stream",
          "text": [
            "[nltk_data] Downloading package punkt to /root/nltk_data...\n",
            "[nltk_data]   Package punkt is already up-to-date!\n",
            "[nltk_data] Downloading package averaged_perceptron_tagger to\n",
            "[nltk_data]     /root/nltk_data...\n",
            "[nltk_data]   Package averaged_perceptron_tagger is already up-to-\n",
            "[nltk_data]       date!\n"
          ],
          "name": "stdout"
        },
        {
          "output_type": "execute_result",
          "data": {
            "text/plain": [
              "True"
            ]
          },
          "metadata": {
            "tags": []
          },
          "execution_count": 6
        }
      ]
    },
    {
      "cell_type": "code",
      "metadata": {
        "id": "ozlqIEb3-TbB",
        "colab_type": "code",
        "colab": {
          "base_uri": "https://localhost:8080/",
          "height": 204
        },
        "outputId": "3091ee51-f121-4422-aa3e-2167d5cb119d"
      },
      "source": [
        "sent_tokenize = word_tokenize(sent)\n",
        "sent_tokenize"
      ],
      "execution_count": 8,
      "outputs": [
        {
          "output_type": "execute_result",
          "data": {
            "text/plain": [
              "['we',\n",
              " 'are',\n",
              " 'learning',\n",
              " 'about',\n",
              " 'chunking',\n",
              " ',',\n",
              " 'which',\n",
              " 'is',\n",
              " 'sub-topic',\n",
              " 'in',\n",
              " 'NLP']"
            ]
          },
          "metadata": {
            "tags": []
          },
          "execution_count": 8
        }
      ]
    },
    {
      "cell_type": "code",
      "metadata": {
        "id": "xnVT5TO4-TbH",
        "colab_type": "code",
        "colab": {
          "base_uri": "https://localhost:8080/",
          "height": 204
        },
        "outputId": "5475690f-e2b0-4f15-a2a4-a2d063648341"
      },
      "source": [
        "for token in sent_tokenize:\n",
        "    print(nltk.pos_tag([token]))"
      ],
      "execution_count": 9,
      "outputs": [
        {
          "output_type": "stream",
          "text": [
            "[('we', 'PRP')]\n",
            "[('are', 'VBP')]\n",
            "[('learning', 'VBG')]\n",
            "[('about', 'IN')]\n",
            "[('chunking', 'VBG')]\n",
            "[(',', ',')]\n",
            "[('which', 'WDT')]\n",
            "[('is', 'VBZ')]\n",
            "[('sub-topic', 'NN')]\n",
            "[('in', 'IN')]\n",
            "[('NLP', 'NN')]\n"
          ],
          "name": "stdout"
        }
      ]
    },
    {
      "cell_type": "code",
      "metadata": {
        "id": "_744Z33Q_j1I",
        "colab_type": "code",
        "colab": {
          "base_uri": "https://localhost:8080/",
          "height": 119
        },
        "outputId": "2b53b1ec-e498-4fef-dedd-cfe2afad0fa8"
      },
      "source": [
        "nltk.download('gutenberg')\n",
        "nltk.download('abc')\n",
        "s = nltk.data.load('corpora/abc/rural.txt', format='text')[:60]\n",
        "print(s)"
      ],
      "execution_count": 10,
      "outputs": [
        {
          "output_type": "stream",
          "text": [
            "[nltk_data] Downloading package gutenberg to /root/nltk_data...\n",
            "[nltk_data]   Package gutenberg is already up-to-date!\n",
            "[nltk_data] Downloading package abc to /root/nltk_data...\n",
            "[nltk_data]   Package abc is already up-to-date!\n",
            "PM denies knowledge of AWB kickbacks\n",
            "The Prime Minister has \n"
          ],
          "name": "stdout"
        }
      ]
    },
    {
      "cell_type": "code",
      "metadata": {
        "id": "u8956lpV_HAm",
        "colab_type": "code",
        "colab": {
          "base_uri": "https://localhost:8080/",
          "height": 34
        },
        "outputId": "e2006256-ae6e-4b35-cfce-fdae13bc59f0"
      },
      "source": [
        "print(os.listdir(nltk.data.find(\"corpora\"))) # checks the files loaded to corpora"
      ],
      "execution_count": 11,
      "outputs": [
        {
          "output_type": "stream",
          "text": [
            "['abc', 'gutenberg', 'gutenberg.zip', 'abc.zip']\n"
          ],
          "name": "stdout"
        }
      ]
    },
    {
      "cell_type": "code",
      "metadata": {
        "id": "tgPFjD5IBJkt",
        "colab_type": "code",
        "colab": {
          "base_uri": "https://localhost:8080/",
          "height": 323
        },
        "outputId": "b3e9e1d4-f62a-4a2f-8a5a-9fee2dcf22c3"
      },
      "source": [
        "nltk.corpus.gutenberg.fileids()"
      ],
      "execution_count": 12,
      "outputs": [
        {
          "output_type": "execute_result",
          "data": {
            "text/plain": [
              "['austen-emma.txt',\n",
              " 'austen-persuasion.txt',\n",
              " 'austen-sense.txt',\n",
              " 'bible-kjv.txt',\n",
              " 'blake-poems.txt',\n",
              " 'bryant-stories.txt',\n",
              " 'burgess-busterbrown.txt',\n",
              " 'carroll-alice.txt',\n",
              " 'chesterton-ball.txt',\n",
              " 'chesterton-brown.txt',\n",
              " 'chesterton-thursday.txt',\n",
              " 'edgeworth-parents.txt',\n",
              " 'melville-moby_dick.txt',\n",
              " 'milton-paradise.txt',\n",
              " 'shakespeare-caesar.txt',\n",
              " 'shakespeare-hamlet.txt',\n",
              " 'shakespeare-macbeth.txt',\n",
              " 'whitman-leaves.txt']"
            ]
          },
          "metadata": {
            "tags": []
          },
          "execution_count": 12
        }
      ]
    },
    {
      "cell_type": "code",
      "metadata": {
        "id": "jUn6Ns1QBcGv",
        "colab_type": "code",
        "colab": {
          "base_uri": "https://localhost:8080/",
          "height": 34
        },
        "outputId": "0b75b4ac-4742-40c4-b7fd-a1ad5b09a4d9"
      },
      "source": [
        "hamlet = nltk.corpus.gutenberg.words('shakespeare-caesar.txt')\n",
        "len(hamlet)"
      ],
      "execution_count": 13,
      "outputs": [
        {
          "output_type": "execute_result",
          "data": {
            "text/plain": [
              "25833"
            ]
          },
          "metadata": {
            "tags": []
          },
          "execution_count": 13
        }
      ]
    },
    {
      "cell_type": "code",
      "metadata": {
        "id": "oOXoQsLlBqgh",
        "colab_type": "code",
        "colab": {}
      },
      "source": [
        "hamlet_pos = []\n",
        "\n",
        "for word in hamlet[:2000]:\n",
        "  word_pos = nltk.pos_tag([word])\n",
        "  hamlet_pos.append(word_pos)"
      ],
      "execution_count": 0,
      "outputs": []
    },
    {
      "cell_type": "code",
      "metadata": {
        "id": "Po7u3FxaCEB1",
        "colab_type": "code",
        "colab": {
          "base_uri": "https://localhost:8080/",
          "height": 1000
        },
        "outputId": "ad091023-90cb-4b6a-f071-63cd51b78192"
      },
      "source": [
        "hamlet_pos"
      ],
      "execution_count": 15,
      "outputs": [
        {
          "output_type": "execute_result",
          "data": {
            "text/plain": [
              "[[('[', 'NN')],\n",
              " [('The', 'DT')],\n",
              " [('Tragedie', 'NN')],\n",
              " [('of', 'IN')],\n",
              " [('Julius', 'NN')],\n",
              " [('Caesar', 'NN')],\n",
              " [('by', 'IN')],\n",
              " [('William', 'NNP')],\n",
              " [('Shakespeare', 'NN')],\n",
              " [('1599', 'CD')],\n",
              " [(']', 'NN')],\n",
              " [('Actus', 'NN')],\n",
              " [('Primus', 'NN')],\n",
              " [('.', '.')],\n",
              " [('Scoena', 'NN')],\n",
              " [('Prima', 'NN')],\n",
              " [('.', '.')],\n",
              " [('Enter', 'NN')],\n",
              " [('Flauius', 'NN')],\n",
              " [(',', ',')],\n",
              " [('Murellus', 'NN')],\n",
              " [(',', ',')],\n",
              " [('and', 'CC')],\n",
              " [('certaine', 'NN')],\n",
              " [('Commoners', 'NNS')],\n",
              " [('ouer', 'NN')],\n",
              " [('the', 'DT')],\n",
              " [('Stage', 'NN')],\n",
              " [('.', '.')],\n",
              " [('Flauius', 'NN')],\n",
              " [('.', '.')],\n",
              " [('Hence', 'NN')],\n",
              " [(':', ':')],\n",
              " [('home', 'NN')],\n",
              " [('you', 'PRP')],\n",
              " [('idle', 'JJ')],\n",
              " [('Creatures', 'NNS')],\n",
              " [(',', ',')],\n",
              " [('get', 'VB')],\n",
              " [('you', 'PRP')],\n",
              " [('home', 'NN')],\n",
              " [(':', ':')],\n",
              " [('Is', 'NN')],\n",
              " [('this', 'DT')],\n",
              " [('a', 'DT')],\n",
              " [('Holiday', 'NN')],\n",
              " [('?', '.')],\n",
              " [('What', 'WP')],\n",
              " [(',', ',')],\n",
              " [('know', 'VB')],\n",
              " [('you', 'PRP')],\n",
              " [('not', 'RB')],\n",
              " [('(', '(')],\n",
              " [('Being', 'VBG')],\n",
              " [('Mechanicall', 'NN')],\n",
              " [(')', ')')],\n",
              " [('you', 'PRP')],\n",
              " [('ought', 'MD')],\n",
              " [('not', 'RB')],\n",
              " [('walke', 'NN')],\n",
              " [('Vpon', 'NN')],\n",
              " [('a', 'DT')],\n",
              " [('labouring', 'VBG')],\n",
              " [('day', 'NN')],\n",
              " [(',', ',')],\n",
              " [('without', 'IN')],\n",
              " [('the', 'DT')],\n",
              " [('signe', 'NN')],\n",
              " [('Of', 'IN')],\n",
              " [('your', 'PRP$')],\n",
              " [('Profession', 'NN')],\n",
              " [('?', '.')],\n",
              " [('Speake', 'NN')],\n",
              " [(',', ',')],\n",
              " [('what', 'WP')],\n",
              " [('Trade', 'NNP')],\n",
              " [('art', 'NN')],\n",
              " [('thou', 'NN')],\n",
              " [('?', '.')],\n",
              " [('Car', 'NN')],\n",
              " [('.', '.')],\n",
              " [('Why', 'WRB')],\n",
              " [('Sir', 'NNP')],\n",
              " [(',', ',')],\n",
              " [('a', 'DT')],\n",
              " [('Carpenter', 'NNP')],\n",
              " [('Mur', 'NN')],\n",
              " [('.', '.')],\n",
              " [('Where', 'WRB')],\n",
              " [('is', 'VBZ')],\n",
              " [('thy', 'NN')],\n",
              " [('Leather', 'NN')],\n",
              " [('Apron', 'NNP')],\n",
              " [(',', ',')],\n",
              " [('and', 'CC')],\n",
              " [('thy', 'NN')],\n",
              " [('Rule', 'NN')],\n",
              " [('?', '.')],\n",
              " [('What', 'WP')],\n",
              " [('dost', 'NN')],\n",
              " [('thou', 'NN')],\n",
              " [('with', 'IN')],\n",
              " [('thy', 'NN')],\n",
              " [('best', 'JJS')],\n",
              " [('Apparrell', 'NNP')],\n",
              " [('on', 'IN')],\n",
              " [('?', '.')],\n",
              " [('You', 'PRP')],\n",
              " [('sir', 'NN')],\n",
              " [(',', ',')],\n",
              " [('what', 'WP')],\n",
              " [('Trade', 'NNP')],\n",
              " [('are', 'VBP')],\n",
              " [('you', 'PRP')],\n",
              " [('?', '.')],\n",
              " [('Cobl', 'NN')],\n",
              " [('.', '.')],\n",
              " [('Truely', 'RB')],\n",
              " [('Sir', 'NNP')],\n",
              " [(',', ',')],\n",
              " [('in', 'IN')],\n",
              " [('respect', 'NN')],\n",
              " [('of', 'IN')],\n",
              " [('a', 'DT')],\n",
              " [('fine', 'NN')],\n",
              " [('Workman', 'NN')],\n",
              " [(',', ',')],\n",
              " [('I', 'PRP')],\n",
              " [('am', 'VBP')],\n",
              " [('but', 'CC')],\n",
              " [('as', 'IN')],\n",
              " [('you', 'PRP')],\n",
              " [('would', 'MD')],\n",
              " [('say', 'VB')],\n",
              " [(',', ',')],\n",
              " [('a', 'DT')],\n",
              " [('Cobler', 'NN')],\n",
              " [('Mur', 'NN')],\n",
              " [('.', '.')],\n",
              " [('But', 'CC')],\n",
              " [('what', 'WP')],\n",
              " [('Trade', 'NNP')],\n",
              " [('art', 'NN')],\n",
              " [('thou', 'NN')],\n",
              " [('?', '.')],\n",
              " [('Answer', 'NN')],\n",
              " [('me', 'PRP')],\n",
              " [('directly', 'RB')],\n",
              " [('Cob', 'NN')],\n",
              " [('.', '.')],\n",
              " [('A', 'DT')],\n",
              " [('Trade', 'NNP')],\n",
              " [('Sir', 'NNP')],\n",
              " [(',', ',')],\n",
              " [('that', 'IN')],\n",
              " [('I', 'PRP')],\n",
              " [('hope', 'NN')],\n",
              " [('I', 'PRP')],\n",
              " [('may', 'MD')],\n",
              " [('vse', 'NN')],\n",
              " [(',', ',')],\n",
              " [('with', 'IN')],\n",
              " [('a', 'DT')],\n",
              " [('safe', 'JJ')],\n",
              " [('Conscience', 'NN')],\n",
              " [(',', ',')],\n",
              " [('which', 'WDT')],\n",
              " [('is', 'VBZ')],\n",
              " [('indeed', 'RB')],\n",
              " [('Sir', 'NNP')],\n",
              " [(',', ',')],\n",
              " [('a', 'DT')],\n",
              " [('Mender', 'NN')],\n",
              " [('of', 'IN')],\n",
              " [('bad', 'JJ')],\n",
              " [('soules', 'NNS')],\n",
              " [('Fla', 'NN')],\n",
              " [('.', '.')],\n",
              " [('What', 'WP')],\n",
              " [('Trade', 'NNP')],\n",
              " [('thou', 'NN')],\n",
              " [('knaue', 'NN')],\n",
              " [('?', '.')],\n",
              " [('Thou', 'NN')],\n",
              " [('naughty', 'NN')],\n",
              " [('knaue', 'NN')],\n",
              " [(',', ',')],\n",
              " [('what', 'WP')],\n",
              " [('Trade', 'NNP')],\n",
              " [('?', '.')],\n",
              " [('Cobl', 'NN')],\n",
              " [('.', '.')],\n",
              " [('Nay', 'NN')],\n",
              " [('I', 'PRP')],\n",
              " [('beseech', 'NN')],\n",
              " [('you', 'PRP')],\n",
              " [('Sir', 'NNP')],\n",
              " [(',', ',')],\n",
              " [('be', 'VB')],\n",
              " [('not', 'RB')],\n",
              " [('out', 'IN')],\n",
              " [('with', 'IN')],\n",
              " [('me', 'PRP')],\n",
              " [(':', ':')],\n",
              " [('yet', 'RB')],\n",
              " [('if', 'IN')],\n",
              " [('you', 'PRP')],\n",
              " [('be', 'VB')],\n",
              " [('out', 'IN')],\n",
              " [('Sir', 'NNP')],\n",
              " [(',', ',')],\n",
              " [('I', 'PRP')],\n",
              " [('can', 'MD')],\n",
              " [('mend', 'NN')],\n",
              " [('you', 'PRP')],\n",
              " [('Mur', 'NN')],\n",
              " [('.', '.')],\n",
              " [('What', 'WP')],\n",
              " [('mean', 'NN')],\n",
              " [(\"'\", \"''\")],\n",
              " [('st', 'NN')],\n",
              " [('thou', 'NN')],\n",
              " [('by', 'IN')],\n",
              " [('that', 'IN')],\n",
              " [('?', '.')],\n",
              " [('Mend', 'NN')],\n",
              " [('mee', 'NN')],\n",
              " [(',', ',')],\n",
              " [('thou', 'NN')],\n",
              " [('sawcy', 'NN')],\n",
              " [('Fellow', 'NN')],\n",
              " [('?', '.')],\n",
              " [('Cob', 'NN')],\n",
              " [('.', '.')],\n",
              " [('Why', 'WRB')],\n",
              " [('sir', 'NN')],\n",
              " [(',', ',')],\n",
              " [('Cobble', 'JJ')],\n",
              " [('you', 'PRP')],\n",
              " [('Fla', 'NN')],\n",
              " [('.', '.')],\n",
              " [('Thou', 'NN')],\n",
              " [('art', 'NN')],\n",
              " [('a', 'DT')],\n",
              " [('Cobler', 'NN')],\n",
              " [(',', ',')],\n",
              " [('art', 'NN')],\n",
              " [('thou', 'NN')],\n",
              " [('?', '.')],\n",
              " [('Cob', 'NN')],\n",
              " [('.', '.')],\n",
              " [('Truly', 'RB')],\n",
              " [('sir', 'NN')],\n",
              " [(',', ',')],\n",
              " [('all', 'DT')],\n",
              " [('that', 'IN')],\n",
              " [('I', 'PRP')],\n",
              " [('liue', 'NN')],\n",
              " [('by', 'IN')],\n",
              " [(',', ',')],\n",
              " [('is', 'VBZ')],\n",
              " [('with', 'IN')],\n",
              " [('the', 'DT')],\n",
              " [('Aule', 'NN')],\n",
              " [(':', ':')],\n",
              " [('I', 'PRP')],\n",
              " [('meddle', 'NN')],\n",
              " [('with', 'IN')],\n",
              " [('no', 'DT')],\n",
              " [('Tradesmans', 'NNS')],\n",
              " [('matters', 'NNS')],\n",
              " [(',', ',')],\n",
              " [('nor', 'CC')],\n",
              " [('womens', 'NNS')],\n",
              " [('matters', 'NNS')],\n",
              " [(';', ':')],\n",
              " [('but', 'CC')],\n",
              " [('withal', 'NN')],\n",
              " [('I', 'PRP')],\n",
              " [('am', 'VBP')],\n",
              " [('indeed', 'RB')],\n",
              " [('Sir', 'NNP')],\n",
              " [(',', ',')],\n",
              " [('a', 'DT')],\n",
              " [('Surgeon', 'NN')],\n",
              " [('to', 'TO')],\n",
              " [('old', 'JJ')],\n",
              " [('shooes', 'NNS')],\n",
              " [(':', ':')],\n",
              " [('when', 'WRB')],\n",
              " [('they', 'PRP')],\n",
              " [('are', 'VBP')],\n",
              " [('in', 'IN')],\n",
              " [('great', 'JJ')],\n",
              " [('danger', 'NN')],\n",
              " [(',', ',')],\n",
              " [('I', 'PRP')],\n",
              " [('recouer', 'NN')],\n",
              " [('them', 'PRP')],\n",
              " [('.', '.')],\n",
              " [('As', 'IN')],\n",
              " [('proper', 'NN')],\n",
              " [('men', 'NNS')],\n",
              " [('as', 'IN')],\n",
              " [('euer', 'NN')],\n",
              " [('trod', 'NN')],\n",
              " [('vpon', 'NN')],\n",
              " [('Neats', 'NNS')],\n",
              " [('Leather', 'NN')],\n",
              " [(',', ',')],\n",
              " [('haue', 'NN')],\n",
              " [('gone', 'VBN')],\n",
              " [('vpon', 'NN')],\n",
              " [('my', 'PRP$')],\n",
              " [('handy', 'NN')],\n",
              " [('-', ':')],\n",
              " [('worke', 'NN')],\n",
              " [('Fla', 'NN')],\n",
              " [('.', '.')],\n",
              " [('But', 'CC')],\n",
              " [('wherefore', 'NN')],\n",
              " [('art', 'NN')],\n",
              " [('not', 'RB')],\n",
              " [('in', 'IN')],\n",
              " [('thy', 'NN')],\n",
              " [('Shop', 'NN')],\n",
              " [('to', 'TO')],\n",
              " [('day', 'NN')],\n",
              " [('?', '.')],\n",
              " [('Why', 'WRB')],\n",
              " [('do', 'VB')],\n",
              " [(\"'\", \"''\")],\n",
              " [('st', 'NN')],\n",
              " [('thou', 'NN')],\n",
              " [('leade', 'NN')],\n",
              " [('these', 'DT')],\n",
              " [('men', 'NNS')],\n",
              " [('about', 'IN')],\n",
              " [('the', 'DT')],\n",
              " [('streets', 'NNS')],\n",
              " [('?', '.')],\n",
              " [('Cob', 'NN')],\n",
              " [('.', '.')],\n",
              " [('Truly', 'RB')],\n",
              " [('sir', 'NN')],\n",
              " [(',', ',')],\n",
              " [('to', 'TO')],\n",
              " [('weare', 'NN')],\n",
              " [('out', 'IN')],\n",
              " [('their', 'PRP$')],\n",
              " [('shooes', 'NNS')],\n",
              " [(',', ',')],\n",
              " [('to', 'TO')],\n",
              " [('get', 'VB')],\n",
              " [('my', 'PRP$')],\n",
              " [('selfe', 'NN')],\n",
              " [('into', 'IN')],\n",
              " [('more', 'RBR')],\n",
              " [('worke', 'NN')],\n",
              " [('.', '.')],\n",
              " [('But', 'CC')],\n",
              " [('indeede', 'NN')],\n",
              " [('sir', 'NN')],\n",
              " [(',', ',')],\n",
              " [('we', 'PRP')],\n",
              " [('make', 'VB')],\n",
              " [('Holyday', 'NN')],\n",
              " [('to', 'TO')],\n",
              " [('see', 'VB')],\n",
              " [('Caesar', 'NN')],\n",
              " [(',', ',')],\n",
              " [('and', 'CC')],\n",
              " [('to', 'TO')],\n",
              " [('reioyce', 'NN')],\n",
              " [('in', 'IN')],\n",
              " [('his', 'PRP$')],\n",
              " [('Triumph', 'NN')],\n",
              " [('Mur', 'NN')],\n",
              " [('.', '.')],\n",
              " [('Wherefore', 'IN')],\n",
              " [('reioyce', 'NN')],\n",
              " [('?', '.')],\n",
              " [('What', 'WP')],\n",
              " [('Conquest', 'JJS')],\n",
              " [('brings', 'NNS')],\n",
              " [('he', 'PRP')],\n",
              " [('home', 'NN')],\n",
              " [('?', '.')],\n",
              " [('What', 'WP')],\n",
              " [('Tributaries', 'NNS')],\n",
              " [('follow', 'VB')],\n",
              " [('him', 'PRP')],\n",
              " [('to', 'TO')],\n",
              " [('Rome', 'NN')],\n",
              " [(',', ',')],\n",
              " [('To', 'TO')],\n",
              " [('grace', 'NN')],\n",
              " [('in', 'IN')],\n",
              " [('Captiue', 'NN')],\n",
              " [('bonds', 'NNS')],\n",
              " [('his', 'PRP$')],\n",
              " [('Chariot', 'NN')],\n",
              " [('Wheeles', 'NNS')],\n",
              " [('?', '.')],\n",
              " [('You', 'PRP')],\n",
              " [('Blockes', 'NNS')],\n",
              " [(',', ',')],\n",
              " [('you', 'PRP')],\n",
              " [('stones', 'NNS')],\n",
              " [(',', ',')],\n",
              " [('you', 'PRP')],\n",
              " [('worse', 'JJR')],\n",
              " [('then', 'RB')],\n",
              " [('senslesse', 'NN')],\n",
              " [('things', 'NNS')],\n",
              " [(':', ':')],\n",
              " [('O', 'NN')],\n",
              " [('you', 'PRP')],\n",
              " [('hard', 'JJ')],\n",
              " [('hearts', 'NNS')],\n",
              " [(',', ',')],\n",
              " [('you', 'PRP')],\n",
              " [('cruell', 'NN')],\n",
              " [('men', 'NNS')],\n",
              " [('of', 'IN')],\n",
              " [('Rome', 'NN')],\n",
              " [(',', ',')],\n",
              " [('Knew', 'NNP')],\n",
              " [('you', 'PRP')],\n",
              " [('not', 'RB')],\n",
              " [('Pompey', 'NN')],\n",
              " [('many', 'JJ')],\n",
              " [('a', 'DT')],\n",
              " [('time', 'NN')],\n",
              " [('and', 'CC')],\n",
              " [('oft', 'NN')],\n",
              " [('?', '.')],\n",
              " [('Haue', 'NN')],\n",
              " [('you', 'PRP')],\n",
              " [('climb', 'NN')],\n",
              " [(\"'\", \"''\")],\n",
              " [('d', 'NN')],\n",
              " [('vp', 'NN')],\n",
              " [('to', 'TO')],\n",
              " [('Walles', 'NNS')],\n",
              " [('and', 'CC')],\n",
              " [('Battlements', 'NNS')],\n",
              " [(',', ',')],\n",
              " [('To', 'TO')],\n",
              " [('Towres', 'NNS')],\n",
              " [('and', 'CC')],\n",
              " [('Windowes', 'NN')],\n",
              " [('?', '.')],\n",
              " [('Yea', 'NN')],\n",
              " [(',', ',')],\n",
              " [('to', 'TO')],\n",
              " [('Chimney', 'NN')],\n",
              " [('tops', 'NNS')],\n",
              " [(',', ',')],\n",
              " [('Your', 'PRP$')],\n",
              " [('Infants', 'NNS')],\n",
              " [('in', 'IN')],\n",
              " [('your', 'PRP$')],\n",
              " [('Armes', 'NNS')],\n",
              " [(',', ',')],\n",
              " [('and', 'CC')],\n",
              " [('there', 'RB')],\n",
              " [('haue', 'NN')],\n",
              " [('sate', 'NN')],\n",
              " [('The', 'DT')],\n",
              " [('liue', 'NN')],\n",
              " [('-', ':')],\n",
              " [('long', 'RB')],\n",
              " [('day', 'NN')],\n",
              " [(',', ',')],\n",
              " [('with', 'IN')],\n",
              " [('patient', 'NN')],\n",
              " [('expectation', 'NN')],\n",
              " [(',', ',')],\n",
              " [('To', 'TO')],\n",
              " [('see', 'VB')],\n",
              " [('great', 'JJ')],\n",
              " [('Pompey', 'NN')],\n",
              " [('passe', 'NN')],\n",
              " [('the', 'DT')],\n",
              " [('streets', 'NNS')],\n",
              " [('of', 'IN')],\n",
              " [('Rome', 'NN')],\n",
              " [(':', ':')],\n",
              " [('And', 'CC')],\n",
              " [('when', 'WRB')],\n",
              " [('you', 'PRP')],\n",
              " [('saw', 'NN')],\n",
              " [('his', 'PRP$')],\n",
              " [('Chariot', 'NN')],\n",
              " [('but', 'CC')],\n",
              " [('appeare', 'NN')],\n",
              " [(',', ',')],\n",
              " [('Haue', 'NN')],\n",
              " [('you', 'PRP')],\n",
              " [('not', 'RB')],\n",
              " [('made', 'VBN')],\n",
              " [('an', 'DT')],\n",
              " [('Vniuersall', 'NN')],\n",
              " [('shout', 'NN')],\n",
              " [(',', ',')],\n",
              " [('That', 'DT')],\n",
              " [('Tyber', 'NNP')],\n",
              " [('trembled', 'VBN')],\n",
              " [('vnderneath', 'NN')],\n",
              " [('her', 'PRP$')],\n",
              " [('bankes', 'NNS')],\n",
              " [('To', 'TO')],\n",
              " [('heare', 'NN')],\n",
              " [('the', 'DT')],\n",
              " [('replication', 'NN')],\n",
              " [('of', 'IN')],\n",
              " [('your', 'PRP$')],\n",
              " [('sounds', 'NNS')],\n",
              " [(',', ',')],\n",
              " [('Made', 'VBN')],\n",
              " [('in', 'IN')],\n",
              " [('her', 'PRP$')],\n",
              " [('Concaue', 'NN')],\n",
              " [('Shores', 'NNS')],\n",
              " [('?', '.')],\n",
              " [('And', 'CC')],\n",
              " [('do', 'VB')],\n",
              " [('you', 'PRP')],\n",
              " [('now', 'RB')],\n",
              " [('put', 'NN')],\n",
              " [('on', 'IN')],\n",
              " [('your', 'PRP$')],\n",
              " [('best', 'JJS')],\n",
              " [('attyre', 'NN')],\n",
              " [('?', '.')],\n",
              " [('And', 'CC')],\n",
              " [('do', 'VB')],\n",
              " [('you', 'PRP')],\n",
              " [('now', 'RB')],\n",
              " [('cull', 'NN')],\n",
              " [('out', 'IN')],\n",
              " [('a', 'DT')],\n",
              " [('Holyday', 'NN')],\n",
              " [('?', '.')],\n",
              " [('And', 'CC')],\n",
              " [('do', 'VB')],\n",
              " [('you', 'PRP')],\n",
              " [('now', 'RB')],\n",
              " [('strew', 'NN')],\n",
              " [('Flowers', 'NNS')],\n",
              " [('in', 'IN')],\n",
              " [('his', 'PRP$')],\n",
              " [('way', 'NN')],\n",
              " [(',', ',')],\n",
              " [('That', 'DT')],\n",
              " [('comes', 'VBZ')],\n",
              " [('in', 'IN')],\n",
              " [('Triumph', 'NN')],\n",
              " [('ouer', 'NN')],\n",
              " [('Pompeyes', 'NNS')],\n",
              " [('blood', 'NN')],\n",
              " [('?', '.')],\n",
              " [('Be', 'VB')],\n",
              " [('gone', 'VBN')],\n",
              " [(',', ',')],\n",
              " [('Runne', 'NN')],\n",
              " [('to', 'TO')],\n",
              " [('your', 'PRP$')],\n",
              " [('houses', 'NNS')],\n",
              " [(',', ',')],\n",
              " [('fall', 'NN')],\n",
              " [('vpon', 'NN')],\n",
              " [('your', 'PRP$')],\n",
              " [('knees', 'NNS')],\n",
              " [(',', ',')],\n",
              " [('Pray', 'NN')],\n",
              " [('to', 'TO')],\n",
              " [('the', 'DT')],\n",
              " [('Gods', 'NNS')],\n",
              " [('to', 'TO')],\n",
              " [('intermit', 'NN')],\n",
              " [('the', 'DT')],\n",
              " [('plague', 'NN')],\n",
              " [('That', 'DT')],\n",
              " [('needs', 'NNS')],\n",
              " [('must', 'MD')],\n",
              " [('light', 'NN')],\n",
              " [('on', 'IN')],\n",
              " [('this', 'DT')],\n",
              " [('Ingratitude', 'NN')],\n",
              " [('Fla', 'NN')],\n",
              " [('.', '.')],\n",
              " [('Go', 'VB')],\n",
              " [(',', ',')],\n",
              " [('go', 'VB')],\n",
              " [(',', ',')],\n",
              " [('good', 'JJ')],\n",
              " [('Countrymen', 'NNS')],\n",
              " [(',', ',')],\n",
              " [('and', 'CC')],\n",
              " [('for', 'IN')],\n",
              " [('this', 'DT')],\n",
              " [('fault', 'NN')],\n",
              " [('Assemble', 'JJ')],\n",
              " [('all', 'DT')],\n",
              " [('the', 'DT')],\n",
              " [('poore', 'NN')],\n",
              " [('men', 'NNS')],\n",
              " [('of', 'IN')],\n",
              " [('your', 'PRP$')],\n",
              " [('sort', 'NN')],\n",
              " [(';', ':')],\n",
              " [('Draw', 'NN')],\n",
              " [('them', 'PRP')],\n",
              " [('to', 'TO')],\n",
              " [('Tyber', 'NNP')],\n",
              " [('bankes', 'NNS')],\n",
              " [(',', ',')],\n",
              " [('and', 'CC')],\n",
              " [('weepe', 'NN')],\n",
              " [('your', 'PRP$')],\n",
              " [('teares', 'NNS')],\n",
              " [('Into', 'NN')],\n",
              " [('the', 'DT')],\n",
              " [('Channell', 'NN')],\n",
              " [(',', ',')],\n",
              " [('till', 'NN')],\n",
              " [('the', 'DT')],\n",
              " [('lowest', 'JJS')],\n",
              " [('streame', 'NN')],\n",
              " [('Do', 'VB')],\n",
              " [('kisse', 'NN')],\n",
              " [('the', 'DT')],\n",
              " [('most', 'JJS')],\n",
              " [('exalted', 'VBN')],\n",
              " [('Shores', 'NNS')],\n",
              " [('of', 'IN')],\n",
              " [('all', 'DT')],\n",
              " [('.', '.')],\n",
              " [('Exeunt', 'NN')],\n",
              " [('.', '.')],\n",
              " [('all', 'DT')],\n",
              " [('the', 'DT')],\n",
              " [('Commoners', 'NNS')],\n",
              " [('.', '.')],\n",
              " [('See', 'VB')],\n",
              " [('where', 'WRB')],\n",
              " [('their', 'PRP$')],\n",
              " [('basest', 'NN')],\n",
              " [('mettle', 'NN')],\n",
              " [('be', 'VB')],\n",
              " [('not', 'RB')],\n",
              " [('mou', 'NN')],\n",
              " [(\"'\", \"''\")],\n",
              " [('d', 'NN')],\n",
              " [(',', ',')],\n",
              " [('They', 'PRP')],\n",
              " [('vanish', 'NN')],\n",
              " [('tongue', 'NN')],\n",
              " [('-', ':')],\n",
              " [('tyed', 'NNS')],\n",
              " [('in', 'IN')],\n",
              " [('their', 'PRP$')],\n",
              " [('guiltinesse', 'NN')],\n",
              " [(':', ':')],\n",
              " [('Go', 'VB')],\n",
              " [('you', 'PRP')],\n",
              " [('downe', 'NN')],\n",
              " [('that', 'IN')],\n",
              " [('way', 'NN')],\n",
              " [('towards', 'NNS')],\n",
              " [('the', 'DT')],\n",
              " [('Capitoll', 'NN')],\n",
              " [(',', ',')],\n",
              " [('This', 'DT')],\n",
              " [('way', 'NN')],\n",
              " [('will', 'MD')],\n",
              " [('I', 'PRP')],\n",
              " [(':', ':')],\n",
              " [('Disrobe', 'NN')],\n",
              " [('the', 'DT')],\n",
              " [('Images', 'NNS')],\n",
              " [(',', ',')],\n",
              " [('If', 'IN')],\n",
              " [('you', 'PRP')],\n",
              " [('do', 'VB')],\n",
              " [('finde', 'NN')],\n",
              " [('them', 'PRP')],\n",
              " [('deckt', 'NN')],\n",
              " [('with', 'IN')],\n",
              " [('Ceremonies', 'NNS')],\n",
              " [('Mur', 'NN')],\n",
              " [('.', '.')],\n",
              " [('May', 'NNP')],\n",
              " [('we', 'PRP')],\n",
              " [('do', 'VB')],\n",
              " [('so', 'RB')],\n",
              " [('?', '.')],\n",
              " [('You', 'PRP')],\n",
              " [('know', 'VB')],\n",
              " [('it', 'PRP')],\n",
              " [('is', 'VBZ')],\n",
              " [('the', 'DT')],\n",
              " [('Feast', 'NN')],\n",
              " [('of', 'IN')],\n",
              " [('Lupercall', 'NN')],\n",
              " [('Fla', 'NN')],\n",
              " [('.', '.')],\n",
              " [('It', 'PRP')],\n",
              " [('is', 'VBZ')],\n",
              " [('no', 'DT')],\n",
              " [('matter', 'NN')],\n",
              " [(',', ',')],\n",
              " [('let', 'VB')],\n",
              " [('no', 'DT')],\n",
              " [('Images', 'NNS')],\n",
              " [('Be', 'VB')],\n",
              " [('hung', 'NN')],\n",
              " [('with', 'IN')],\n",
              " [('Caesars', 'NNS')],\n",
              " [('Trophees', 'NNS')],\n",
              " [(':', ':')],\n",
              " [('Ile', 'NN')],\n",
              " [('about', 'IN')],\n",
              " [(',', ',')],\n",
              " [('And', 'CC')],\n",
              " [('driue', 'NN')],\n",
              " [('away', 'RB')],\n",
              " [('the', 'DT')],\n",
              " [('Vulgar', 'NN')],\n",
              " [('from', 'IN')],\n",
              " [('the', 'DT')],\n",
              " [('streets', 'NNS')],\n",
              " [(';', ':')],\n",
              " [('So', 'RB')],\n",
              " [('do', 'VB')],\n",
              " [('you', 'PRP')],\n",
              " [('too', 'RB')],\n",
              " [(',', ',')],\n",
              " [('where', 'WRB')],\n",
              " [('you', 'PRP')],\n",
              " [('perceiue', 'NN')],\n",
              " [('them', 'PRP')],\n",
              " [('thicke', 'NN')],\n",
              " [('.', '.')],\n",
              " [('These', 'DT')],\n",
              " [('growing', 'VBG')],\n",
              " [('Feathers', 'NNS')],\n",
              " [(',', ',')],\n",
              " [('pluckt', 'NN')],\n",
              " [('from', 'IN')],\n",
              " [('Caesars', 'NNS')],\n",
              " [('wing', 'VBG')],\n",
              " [(',', ',')],\n",
              " [('Will', 'MD')],\n",
              " [('make', 'VB')],\n",
              " [('him', 'PRP')],\n",
              " [('flye', 'NN')],\n",
              " [('an', 'DT')],\n",
              " [('ordinary', 'JJ')],\n",
              " [('pitch', 'NN')],\n",
              " [(',', ',')],\n",
              " [('Who', 'WP')],\n",
              " [('else', 'RB')],\n",
              " [('would', 'MD')],\n",
              " [('soare', 'NN')],\n",
              " [('aboue', 'NN')],\n",
              " [('the', 'DT')],\n",
              " [('view', 'NN')],\n",
              " [('of', 'IN')],\n",
              " [('men', 'NNS')],\n",
              " [(',', ',')],\n",
              " [('And', 'CC')],\n",
              " [('keepe', 'NN')],\n",
              " [('vs', 'NN')],\n",
              " [('all', 'DT')],\n",
              " [('in', 'IN')],\n",
              " [('seruile', 'NN')],\n",
              " [('fearefulnesse', 'NN')],\n",
              " [('.', '.')],\n",
              " [('Exeunt', 'NN')],\n",
              " [('.', '.')],\n",
              " [('Enter', 'NN')],\n",
              " [('Caesar', 'NN')],\n",
              " [(',', ',')],\n",
              " [('Antony', 'NN')],\n",
              " [('for', 'IN')],\n",
              " [('the', 'DT')],\n",
              " [('Course', 'NN')],\n",
              " [(',', ',')],\n",
              " [('Calphurnia', 'NN')],\n",
              " [(',', ',')],\n",
              " [('Portia', 'NN')],\n",
              " [(',', ',')],\n",
              " [('Decius', 'NN')],\n",
              " [(',', ',')],\n",
              " [('Cicero', 'NN')],\n",
              " [(',', ',')],\n",
              " [('Brutus', 'NN')],\n",
              " [(',', ',')],\n",
              " [('Cassius', 'NN')],\n",
              " [(',', ',')],\n",
              " [('Caska', 'NN')],\n",
              " [(',', ',')],\n",
              " [('a', 'DT')],\n",
              " [('Soothsayer', 'NN')],\n",
              " [(':', ':')],\n",
              " [('after', 'IN')],\n",
              " [('them', 'PRP')],\n",
              " [('Murellus', 'NN')],\n",
              " [('and', 'CC')],\n",
              " [('Flauius', 'NN')],\n",
              " [('.', '.')],\n",
              " [('Caes', 'NN')],\n",
              " [('.', '.')],\n",
              " [('Calphurnia', 'NN')],\n",
              " [('Cask', 'NN')],\n",
              " [('.', '.')],\n",
              " [('Peace', 'NN')],\n",
              " [('ho', 'NN')],\n",
              " [(',', ',')],\n",
              " [('Caesar', 'NN')],\n",
              " [('speakes', 'NNS')],\n",
              " [('Caes', 'NN')],\n",
              " [('.', '.')],\n",
              " [('Calphurnia', 'NN')],\n",
              " [('Calp', 'NN')],\n",
              " [('.', '.')],\n",
              " [('Heere', 'WRB')],\n",
              " [('my', 'PRP$')],\n",
              " [('Lord', 'NN')],\n",
              " [('Caes', 'NN')],\n",
              " [('.', '.')],\n",
              " [('Stand', 'NN')],\n",
              " [('you', 'PRP')],\n",
              " [('directly', 'RB')],\n",
              " [('in', 'IN')],\n",
              " [('Antonio', 'NN')],\n",
              " [(\"'\", \"''\")],\n",
              " [('s', 'NN')],\n",
              " [('way', 'NN')],\n",
              " [(',', ',')],\n",
              " [('When', 'WRB')],\n",
              " [('he', 'PRP')],\n",
              " [('doth', 'NN')],\n",
              " [('run', 'VB')],\n",
              " [('his', 'PRP$')],\n",
              " [('course', 'NN')],\n",
              " [('.', '.')],\n",
              " [('Antonio', 'NN')],\n",
              " [('Ant', 'NN')],\n",
              " [('.', '.')],\n",
              " [('Cæsar', 'NN')],\n",
              " [(',', ',')],\n",
              " [('my', 'PRP$')],\n",
              " [('Lord', 'NN')],\n",
              " [('Caes', 'NN')],\n",
              " [('.', '.')],\n",
              " [('Forget', 'NN')],\n",
              " [('not', 'RB')],\n",
              " [('in', 'IN')],\n",
              " [('your', 'PRP$')],\n",
              " [('speed', 'NN')],\n",
              " [('Antonio', 'NN')],\n",
              " [(',', ',')],\n",
              " [('To', 'TO')],\n",
              " [('touch', 'NN')],\n",
              " [('Calphurnia', 'NN')],\n",
              " [(':', ':')],\n",
              " [('for', 'IN')],\n",
              " [('our', 'PRP$')],\n",
              " [('Elders', 'NNS')],\n",
              " [('say', 'VB')],\n",
              " [(',', ',')],\n",
              " [('The', 'DT')],\n",
              " [('Barren', 'NNS')],\n",
              " [('touched', 'VBN')],\n",
              " [('in', 'IN')],\n",
              " [('this', 'DT')],\n",
              " [('holy', 'NN')],\n",
              " [('chace', 'NN')],\n",
              " [(',', ',')],\n",
              " [('Shake', 'VB')],\n",
              " [('off', 'IN')],\n",
              " [('their', 'PRP$')],\n",
              " [('sterrile', 'NN')],\n",
              " [('curse', 'NN')],\n",
              " [('Ant', 'NN')],\n",
              " [('.', '.')],\n",
              " [('I', 'PRP')],\n",
              " [('shall', 'MD')],\n",
              " [('remember', 'VB')],\n",
              " [(',', ',')],\n",
              " [('When', 'WRB')],\n",
              " [('Caesar', 'NN')],\n",
              " [('sayes', 'NNS')],\n",
              " [(',', ',')],\n",
              " [('Do', 'VB')],\n",
              " [('this', 'DT')],\n",
              " [(';', ':')],\n",
              " [('it', 'PRP')],\n",
              " [('is', 'VBZ')],\n",
              " [('perform', 'NN')],\n",
              " [(\"'\", \"''\")],\n",
              " [('d', 'NN')],\n",
              " [('Caes', 'NN')],\n",
              " [('.', '.')],\n",
              " [('Set', 'NN')],\n",
              " [('on', 'IN')],\n",
              " [(',', ',')],\n",
              " [('and', 'CC')],\n",
              " [('leaue', 'NN')],\n",
              " [('no', 'DT')],\n",
              " [('Ceremony', 'NN')],\n",
              " [('out', 'IN')],\n",
              " [('Sooth', 'NNP')],\n",
              " [('.', '.')],\n",
              " [('Caesar', 'NN')],\n",
              " [('Caes', 'NN')],\n",
              " [('.', '.')],\n",
              " [('Ha', 'NN')],\n",
              " [('?', '.')],\n",
              " [('Who', 'WP')],\n",
              " [('calles', 'NNS')],\n",
              " [('?', '.')],\n",
              " [('Cask', 'NN')],\n",
              " [('.', '.')],\n",
              " [('Bid', 'NN')],\n",
              " [('euery', 'NN')],\n",
              " [('noyse', 'NN')],\n",
              " [('be', 'VB')],\n",
              " [('still', 'RB')],\n",
              " [(':', ':')],\n",
              " [('peace', 'NN')],\n",
              " [('yet', 'RB')],\n",
              " [('againe', 'NN')],\n",
              " [('Caes', 'NN')],\n",
              " [('.', '.')],\n",
              " [('Who', 'WP')],\n",
              " [('is', 'VBZ')],\n",
              " [('it', 'PRP')],\n",
              " [('in', 'IN')],\n",
              " [('the', 'DT')],\n",
              " [('presse', 'NN')],\n",
              " [(',', ',')],\n",
              " [('that', 'IN')],\n",
              " [('calles', 'NNS')],\n",
              " [('on', 'IN')],\n",
              " [('me', 'PRP')],\n",
              " [('?', '.')],\n",
              " [('I', 'PRP')],\n",
              " [('heare', 'NN')],\n",
              " [('a', 'DT')],\n",
              " [('Tongue', 'NN')],\n",
              " [('shriller', 'NN')],\n",
              " [('then', 'RB')],\n",
              " [('all', 'DT')],\n",
              " [('the', 'DT')],\n",
              " [('Musicke', 'NN')],\n",
              " [('Cry', 'NN')],\n",
              " [(',', ',')],\n",
              " [('Caesar', 'NN')],\n",
              " [(':', ':')],\n",
              " [('Speake', 'NN')],\n",
              " [(',', ',')],\n",
              " [('Caesar', 'NN')],\n",
              " [('is', 'VBZ')],\n",
              " [('turn', 'NN')],\n",
              " [(\"'\", \"''\")],\n",
              " [('d', 'NN')],\n",
              " [('to', 'TO')],\n",
              " [('heare', 'NN')],\n",
              " [('Sooth', 'NNP')],\n",
              " [('.', '.')],\n",
              " [('Beware', 'NN')],\n",
              " [('the', 'DT')],\n",
              " [('Ides', 'NNS')],\n",
              " [('of', 'IN')],\n",
              " [('March', 'NNP')],\n",
              " [('Caes', 'NN')],\n",
              " [('.', '.')],\n",
              " [('What', 'WP')],\n",
              " [('man', 'NN')],\n",
              " [('is', 'VBZ')],\n",
              " [('that', 'IN')],\n",
              " [('?', '.')],\n",
              " [('Br', 'NN')],\n",
              " [('.', '.')],\n",
              " [('A', 'DT')],\n",
              " [('Sooth', 'NNP')],\n",
              " [('-', ':')],\n",
              " [('sayer', 'NN')],\n",
              " [('bids', 'NNS')],\n",
              " [('you', 'PRP')],\n",
              " [('beware', 'NN')],\n",
              " [('the', 'DT')],\n",
              " [('Ides', 'NNS')],\n",
              " [('of', 'IN')],\n",
              " [('March', 'NNP')],\n",
              " ...]"
            ]
          },
          "metadata": {
            "tags": []
          },
          "execution_count": 15
        }
      ]
    },
    {
      "cell_type": "code",
      "metadata": {
        "id": "a1aNfDa0CQAq",
        "colab_type": "code",
        "colab": {
          "base_uri": "https://localhost:8080/",
          "height": 411
        },
        "outputId": "f47d3746-80a9-4d7c-9326-bea28b599988"
      },
      "source": [
        "sent = \"we are here to learn about natural language processing\"\n",
        "sent_tokens = nltk.pos_tag(word_tokenize(sent))\n",
        "\n",
        "# Rules can be written as below - Noun phrase chunk using regular expression\n",
        "grammar_np = r\"NP:{<DT>?<JJ>*<NN>}\"\n",
        "\n",
        "# Create chunk parser and pass Noun Phrase string to it\n",
        "chunk_parser = nltk.RegexpParser(grammar_np)\n",
        "\n",
        "# parse() function to parse our sentence\n",
        "chunk_result = chunk_parser.parse(sent_tokens)\n",
        "chunk_result"
      ],
      "execution_count": 16,
      "outputs": [
        {
          "output_type": "error",
          "ename": "TclError",
          "evalue": "ignored",
          "traceback": [
            "\u001b[0;31m---------------------------------------------------------------------------\u001b[0m",
            "\u001b[0;31mTclError\u001b[0m                                  Traceback (most recent call last)",
            "\u001b[0;32m/usr/local/lib/python3.6/dist-packages/IPython/core/formatters.py\u001b[0m in \u001b[0;36m__call__\u001b[0;34m(self, obj)\u001b[0m\n\u001b[1;32m    336\u001b[0m             \u001b[0mmethod\u001b[0m \u001b[0;34m=\u001b[0m \u001b[0mget_real_method\u001b[0m\u001b[0;34m(\u001b[0m\u001b[0mobj\u001b[0m\u001b[0;34m,\u001b[0m \u001b[0mself\u001b[0m\u001b[0;34m.\u001b[0m\u001b[0mprint_method\u001b[0m\u001b[0;34m)\u001b[0m\u001b[0;34m\u001b[0m\u001b[0;34m\u001b[0m\u001b[0m\n\u001b[1;32m    337\u001b[0m             \u001b[0;32mif\u001b[0m \u001b[0mmethod\u001b[0m \u001b[0;32mis\u001b[0m \u001b[0;32mnot\u001b[0m \u001b[0;32mNone\u001b[0m\u001b[0;34m:\u001b[0m\u001b[0;34m\u001b[0m\u001b[0;34m\u001b[0m\u001b[0m\n\u001b[0;32m--> 338\u001b[0;31m                 \u001b[0;32mreturn\u001b[0m \u001b[0mmethod\u001b[0m\u001b[0;34m(\u001b[0m\u001b[0;34m)\u001b[0m\u001b[0;34m\u001b[0m\u001b[0;34m\u001b[0m\u001b[0m\n\u001b[0m\u001b[1;32m    339\u001b[0m             \u001b[0;32mreturn\u001b[0m \u001b[0;32mNone\u001b[0m\u001b[0;34m\u001b[0m\u001b[0;34m\u001b[0m\u001b[0m\n\u001b[1;32m    340\u001b[0m         \u001b[0;32melse\u001b[0m\u001b[0;34m:\u001b[0m\u001b[0;34m\u001b[0m\u001b[0;34m\u001b[0m\u001b[0m\n",
            "\u001b[0;32m/usr/local/lib/python3.6/dist-packages/nltk/tree.py\u001b[0m in \u001b[0;36m_repr_png_\u001b[0;34m(self)\u001b[0m\n\u001b[1;32m    717\u001b[0m         \u001b[0;32mfrom\u001b[0m \u001b[0mnltk\u001b[0m\u001b[0;34m.\u001b[0m\u001b[0mdraw\u001b[0m\u001b[0;34m.\u001b[0m\u001b[0mutil\u001b[0m \u001b[0;32mimport\u001b[0m \u001b[0mCanvasFrame\u001b[0m\u001b[0;34m\u001b[0m\u001b[0;34m\u001b[0m\u001b[0m\n\u001b[1;32m    718\u001b[0m         \u001b[0;32mfrom\u001b[0m \u001b[0mnltk\u001b[0m\u001b[0;34m.\u001b[0m\u001b[0minternals\u001b[0m \u001b[0;32mimport\u001b[0m \u001b[0mfind_binary\u001b[0m\u001b[0;34m\u001b[0m\u001b[0;34m\u001b[0m\u001b[0m\n\u001b[0;32m--> 719\u001b[0;31m         \u001b[0m_canvas_frame\u001b[0m \u001b[0;34m=\u001b[0m \u001b[0mCanvasFrame\u001b[0m\u001b[0;34m(\u001b[0m\u001b[0;34m)\u001b[0m\u001b[0;34m\u001b[0m\u001b[0;34m\u001b[0m\u001b[0m\n\u001b[0m\u001b[1;32m    720\u001b[0m         \u001b[0mwidget\u001b[0m \u001b[0;34m=\u001b[0m \u001b[0mtree_to_treesegment\u001b[0m\u001b[0;34m(\u001b[0m\u001b[0m_canvas_frame\u001b[0m\u001b[0;34m.\u001b[0m\u001b[0mcanvas\u001b[0m\u001b[0;34m(\u001b[0m\u001b[0;34m)\u001b[0m\u001b[0;34m,\u001b[0m \u001b[0mself\u001b[0m\u001b[0;34m)\u001b[0m\u001b[0;34m\u001b[0m\u001b[0;34m\u001b[0m\u001b[0m\n\u001b[1;32m    721\u001b[0m         \u001b[0m_canvas_frame\u001b[0m\u001b[0;34m.\u001b[0m\u001b[0madd_widget\u001b[0m\u001b[0;34m(\u001b[0m\u001b[0mwidget\u001b[0m\u001b[0;34m)\u001b[0m\u001b[0;34m\u001b[0m\u001b[0;34m\u001b[0m\u001b[0m\n",
            "\u001b[0;32m/usr/local/lib/python3.6/dist-packages/nltk/draw/util.py\u001b[0m in \u001b[0;36m__init__\u001b[0;34m(self, parent, **kw)\u001b[0m\n\u001b[1;32m   1651\u001b[0m         \u001b[0;31m# If no parent was given, set up a top-level window.\u001b[0m\u001b[0;34m\u001b[0m\u001b[0;34m\u001b[0m\u001b[0;34m\u001b[0m\u001b[0m\n\u001b[1;32m   1652\u001b[0m         \u001b[0;32mif\u001b[0m \u001b[0mparent\u001b[0m \u001b[0;32mis\u001b[0m \u001b[0;32mNone\u001b[0m\u001b[0;34m:\u001b[0m\u001b[0;34m\u001b[0m\u001b[0;34m\u001b[0m\u001b[0m\n\u001b[0;32m-> 1653\u001b[0;31m             \u001b[0mself\u001b[0m\u001b[0;34m.\u001b[0m\u001b[0m_parent\u001b[0m \u001b[0;34m=\u001b[0m \u001b[0mTk\u001b[0m\u001b[0;34m(\u001b[0m\u001b[0;34m)\u001b[0m\u001b[0;34m\u001b[0m\u001b[0;34m\u001b[0m\u001b[0m\n\u001b[0m\u001b[1;32m   1654\u001b[0m             \u001b[0mself\u001b[0m\u001b[0;34m.\u001b[0m\u001b[0m_parent\u001b[0m\u001b[0;34m.\u001b[0m\u001b[0mtitle\u001b[0m\u001b[0;34m(\u001b[0m\u001b[0;34m'NLTK'\u001b[0m\u001b[0;34m)\u001b[0m\u001b[0;34m\u001b[0m\u001b[0;34m\u001b[0m\u001b[0m\n\u001b[1;32m   1655\u001b[0m             \u001b[0mself\u001b[0m\u001b[0;34m.\u001b[0m\u001b[0m_parent\u001b[0m\u001b[0;34m.\u001b[0m\u001b[0mbind\u001b[0m\u001b[0;34m(\u001b[0m\u001b[0;34m'<Control-p>'\u001b[0m\u001b[0;34m,\u001b[0m \u001b[0;32mlambda\u001b[0m \u001b[0me\u001b[0m\u001b[0;34m:\u001b[0m \u001b[0mself\u001b[0m\u001b[0;34m.\u001b[0m\u001b[0mprint_to_file\u001b[0m\u001b[0;34m(\u001b[0m\u001b[0;34m)\u001b[0m\u001b[0;34m)\u001b[0m\u001b[0;34m\u001b[0m\u001b[0;34m\u001b[0m\u001b[0m\n",
            "\u001b[0;32m/usr/lib/python3.6/tkinter/__init__.py\u001b[0m in \u001b[0;36m__init__\u001b[0;34m(self, screenName, baseName, className, useTk, sync, use)\u001b[0m\n\u001b[1;32m   2021\u001b[0m                 \u001b[0mbaseName\u001b[0m \u001b[0;34m=\u001b[0m \u001b[0mbaseName\u001b[0m \u001b[0;34m+\u001b[0m \u001b[0mext\u001b[0m\u001b[0;34m\u001b[0m\u001b[0;34m\u001b[0m\u001b[0m\n\u001b[1;32m   2022\u001b[0m         \u001b[0minteractive\u001b[0m \u001b[0;34m=\u001b[0m \u001b[0;36m0\u001b[0m\u001b[0;34m\u001b[0m\u001b[0;34m\u001b[0m\u001b[0m\n\u001b[0;32m-> 2023\u001b[0;31m         \u001b[0mself\u001b[0m\u001b[0;34m.\u001b[0m\u001b[0mtk\u001b[0m \u001b[0;34m=\u001b[0m \u001b[0m_tkinter\u001b[0m\u001b[0;34m.\u001b[0m\u001b[0mcreate\u001b[0m\u001b[0;34m(\u001b[0m\u001b[0mscreenName\u001b[0m\u001b[0;34m,\u001b[0m \u001b[0mbaseName\u001b[0m\u001b[0;34m,\u001b[0m \u001b[0mclassName\u001b[0m\u001b[0;34m,\u001b[0m \u001b[0minteractive\u001b[0m\u001b[0;34m,\u001b[0m \u001b[0mwantobjects\u001b[0m\u001b[0;34m,\u001b[0m \u001b[0museTk\u001b[0m\u001b[0;34m,\u001b[0m \u001b[0msync\u001b[0m\u001b[0;34m,\u001b[0m \u001b[0muse\u001b[0m\u001b[0;34m)\u001b[0m\u001b[0;34m\u001b[0m\u001b[0;34m\u001b[0m\u001b[0m\n\u001b[0m\u001b[1;32m   2024\u001b[0m         \u001b[0;32mif\u001b[0m \u001b[0museTk\u001b[0m\u001b[0;34m:\u001b[0m\u001b[0;34m\u001b[0m\u001b[0;34m\u001b[0m\u001b[0m\n\u001b[1;32m   2025\u001b[0m             \u001b[0mself\u001b[0m\u001b[0;34m.\u001b[0m\u001b[0m_loadtk\u001b[0m\u001b[0;34m(\u001b[0m\u001b[0;34m)\u001b[0m\u001b[0;34m\u001b[0m\u001b[0;34m\u001b[0m\u001b[0m\n",
            "\u001b[0;31mTclError\u001b[0m: no display name and no $DISPLAY environment variable"
          ]
        },
        {
          "output_type": "execute_result",
          "data": {
            "text/plain": [
              "Tree('S', [('we', 'PRP'), ('are', 'VBP'), ('here', 'RB'), ('to', 'TO'), ('learn', 'VB'), ('about', 'IN'), Tree('NP', [('natural', 'JJ'), ('language', 'NN')]), Tree('NP', [('processing', 'NN')])])"
            ]
          },
          "metadata": {
            "tags": []
          },
          "execution_count": 16
        }
      ]
    },
    {
      "cell_type": "markdown",
      "metadata": {
        "id": "WHsB5poTDpfm",
        "colab_type": "text"
      },
      "source": [
        "https://stackoverflow.com/questions/49478228/tclerror-no-display-name-and-no-display-environment-variable-in-googles-colab\n",
        "\n",
        "The problem is the `tkinter` that you are trying to use.\n",
        "\n",
        "`Tk` will normally create `GUI` (like a new window) for your interface. But Colab is run on the web server in the cloud. It can't open a window on your machine. You can only interact with it through notebook interface."
      ]
    },
    {
      "cell_type": "markdown",
      "metadata": {
        "id": "-vrfUKBqXABb",
        "colab_type": "text"
      },
      "source": [
        "### Chinking"
      ]
    },
    {
      "cell_type": "code",
      "metadata": {
        "id": "v7VmF50-DuMQ",
        "colab_type": "code",
        "colab": {}
      },
      "source": [
        "chink_grammar = r\"\"\"\n",
        "    chk_name: #chunk name\n",
        "    {<PRP>?<VB|VBD|VBZ|VBG>*<RB|RBR>?}   #Chunk regex sequence\n",
        "    }<RB>+{ #chink regex sequence - adverb\n",
        "\n",
        "    \"\"\""
      ],
      "execution_count": 0,
      "outputs": []
    },
    {
      "cell_type": "code",
      "metadata": {
        "id": "FCsUllUKWMXx",
        "colab_type": "code",
        "colab": {
          "base_uri": "https://localhost:8080/",
          "height": 411
        },
        "outputId": "5104a0dc-cd24-4867-bac2-0f73ca898db7"
      },
      "source": [
        "chink_parser = nltk.RegexpParser(chink_grammar)\n",
        "chink_parser.parse(sent_tokens)"
      ],
      "execution_count": 18,
      "outputs": [
        {
          "output_type": "error",
          "ename": "TclError",
          "evalue": "ignored",
          "traceback": [
            "\u001b[0;31m---------------------------------------------------------------------------\u001b[0m",
            "\u001b[0;31mTclError\u001b[0m                                  Traceback (most recent call last)",
            "\u001b[0;32m/usr/local/lib/python3.6/dist-packages/IPython/core/formatters.py\u001b[0m in \u001b[0;36m__call__\u001b[0;34m(self, obj)\u001b[0m\n\u001b[1;32m    336\u001b[0m             \u001b[0mmethod\u001b[0m \u001b[0;34m=\u001b[0m \u001b[0mget_real_method\u001b[0m\u001b[0;34m(\u001b[0m\u001b[0mobj\u001b[0m\u001b[0;34m,\u001b[0m \u001b[0mself\u001b[0m\u001b[0;34m.\u001b[0m\u001b[0mprint_method\u001b[0m\u001b[0;34m)\u001b[0m\u001b[0;34m\u001b[0m\u001b[0;34m\u001b[0m\u001b[0m\n\u001b[1;32m    337\u001b[0m             \u001b[0;32mif\u001b[0m \u001b[0mmethod\u001b[0m \u001b[0;32mis\u001b[0m \u001b[0;32mnot\u001b[0m \u001b[0;32mNone\u001b[0m\u001b[0;34m:\u001b[0m\u001b[0;34m\u001b[0m\u001b[0;34m\u001b[0m\u001b[0m\n\u001b[0;32m--> 338\u001b[0;31m                 \u001b[0;32mreturn\u001b[0m \u001b[0mmethod\u001b[0m\u001b[0;34m(\u001b[0m\u001b[0;34m)\u001b[0m\u001b[0;34m\u001b[0m\u001b[0;34m\u001b[0m\u001b[0m\n\u001b[0m\u001b[1;32m    339\u001b[0m             \u001b[0;32mreturn\u001b[0m \u001b[0;32mNone\u001b[0m\u001b[0;34m\u001b[0m\u001b[0;34m\u001b[0m\u001b[0m\n\u001b[1;32m    340\u001b[0m         \u001b[0;32melse\u001b[0m\u001b[0;34m:\u001b[0m\u001b[0;34m\u001b[0m\u001b[0;34m\u001b[0m\u001b[0m\n",
            "\u001b[0;32m/usr/local/lib/python3.6/dist-packages/nltk/tree.py\u001b[0m in \u001b[0;36m_repr_png_\u001b[0;34m(self)\u001b[0m\n\u001b[1;32m    717\u001b[0m         \u001b[0;32mfrom\u001b[0m \u001b[0mnltk\u001b[0m\u001b[0;34m.\u001b[0m\u001b[0mdraw\u001b[0m\u001b[0;34m.\u001b[0m\u001b[0mutil\u001b[0m \u001b[0;32mimport\u001b[0m \u001b[0mCanvasFrame\u001b[0m\u001b[0;34m\u001b[0m\u001b[0;34m\u001b[0m\u001b[0m\n\u001b[1;32m    718\u001b[0m         \u001b[0;32mfrom\u001b[0m \u001b[0mnltk\u001b[0m\u001b[0;34m.\u001b[0m\u001b[0minternals\u001b[0m \u001b[0;32mimport\u001b[0m \u001b[0mfind_binary\u001b[0m\u001b[0;34m\u001b[0m\u001b[0;34m\u001b[0m\u001b[0m\n\u001b[0;32m--> 719\u001b[0;31m         \u001b[0m_canvas_frame\u001b[0m \u001b[0;34m=\u001b[0m \u001b[0mCanvasFrame\u001b[0m\u001b[0;34m(\u001b[0m\u001b[0;34m)\u001b[0m\u001b[0;34m\u001b[0m\u001b[0;34m\u001b[0m\u001b[0m\n\u001b[0m\u001b[1;32m    720\u001b[0m         \u001b[0mwidget\u001b[0m \u001b[0;34m=\u001b[0m \u001b[0mtree_to_treesegment\u001b[0m\u001b[0;34m(\u001b[0m\u001b[0m_canvas_frame\u001b[0m\u001b[0;34m.\u001b[0m\u001b[0mcanvas\u001b[0m\u001b[0;34m(\u001b[0m\u001b[0;34m)\u001b[0m\u001b[0;34m,\u001b[0m \u001b[0mself\u001b[0m\u001b[0;34m)\u001b[0m\u001b[0;34m\u001b[0m\u001b[0;34m\u001b[0m\u001b[0m\n\u001b[1;32m    721\u001b[0m         \u001b[0m_canvas_frame\u001b[0m\u001b[0;34m.\u001b[0m\u001b[0madd_widget\u001b[0m\u001b[0;34m(\u001b[0m\u001b[0mwidget\u001b[0m\u001b[0;34m)\u001b[0m\u001b[0;34m\u001b[0m\u001b[0;34m\u001b[0m\u001b[0m\n",
            "\u001b[0;32m/usr/local/lib/python3.6/dist-packages/nltk/draw/util.py\u001b[0m in \u001b[0;36m__init__\u001b[0;34m(self, parent, **kw)\u001b[0m\n\u001b[1;32m   1651\u001b[0m         \u001b[0;31m# If no parent was given, set up a top-level window.\u001b[0m\u001b[0;34m\u001b[0m\u001b[0;34m\u001b[0m\u001b[0;34m\u001b[0m\u001b[0m\n\u001b[1;32m   1652\u001b[0m         \u001b[0;32mif\u001b[0m \u001b[0mparent\u001b[0m \u001b[0;32mis\u001b[0m \u001b[0;32mNone\u001b[0m\u001b[0;34m:\u001b[0m\u001b[0;34m\u001b[0m\u001b[0;34m\u001b[0m\u001b[0m\n\u001b[0;32m-> 1653\u001b[0;31m             \u001b[0mself\u001b[0m\u001b[0;34m.\u001b[0m\u001b[0m_parent\u001b[0m \u001b[0;34m=\u001b[0m \u001b[0mTk\u001b[0m\u001b[0;34m(\u001b[0m\u001b[0;34m)\u001b[0m\u001b[0;34m\u001b[0m\u001b[0;34m\u001b[0m\u001b[0m\n\u001b[0m\u001b[1;32m   1654\u001b[0m             \u001b[0mself\u001b[0m\u001b[0;34m.\u001b[0m\u001b[0m_parent\u001b[0m\u001b[0;34m.\u001b[0m\u001b[0mtitle\u001b[0m\u001b[0;34m(\u001b[0m\u001b[0;34m'NLTK'\u001b[0m\u001b[0;34m)\u001b[0m\u001b[0;34m\u001b[0m\u001b[0;34m\u001b[0m\u001b[0m\n\u001b[1;32m   1655\u001b[0m             \u001b[0mself\u001b[0m\u001b[0;34m.\u001b[0m\u001b[0m_parent\u001b[0m\u001b[0;34m.\u001b[0m\u001b[0mbind\u001b[0m\u001b[0;34m(\u001b[0m\u001b[0;34m'<Control-p>'\u001b[0m\u001b[0;34m,\u001b[0m \u001b[0;32mlambda\u001b[0m \u001b[0me\u001b[0m\u001b[0;34m:\u001b[0m \u001b[0mself\u001b[0m\u001b[0;34m.\u001b[0m\u001b[0mprint_to_file\u001b[0m\u001b[0;34m(\u001b[0m\u001b[0;34m)\u001b[0m\u001b[0;34m)\u001b[0m\u001b[0;34m\u001b[0m\u001b[0;34m\u001b[0m\u001b[0m\n",
            "\u001b[0;32m/usr/lib/python3.6/tkinter/__init__.py\u001b[0m in \u001b[0;36m__init__\u001b[0;34m(self, screenName, baseName, className, useTk, sync, use)\u001b[0m\n\u001b[1;32m   2021\u001b[0m                 \u001b[0mbaseName\u001b[0m \u001b[0;34m=\u001b[0m \u001b[0mbaseName\u001b[0m \u001b[0;34m+\u001b[0m \u001b[0mext\u001b[0m\u001b[0;34m\u001b[0m\u001b[0;34m\u001b[0m\u001b[0m\n\u001b[1;32m   2022\u001b[0m         \u001b[0minteractive\u001b[0m \u001b[0;34m=\u001b[0m \u001b[0;36m0\u001b[0m\u001b[0;34m\u001b[0m\u001b[0;34m\u001b[0m\u001b[0m\n\u001b[0;32m-> 2023\u001b[0;31m         \u001b[0mself\u001b[0m\u001b[0;34m.\u001b[0m\u001b[0mtk\u001b[0m \u001b[0;34m=\u001b[0m \u001b[0m_tkinter\u001b[0m\u001b[0;34m.\u001b[0m\u001b[0mcreate\u001b[0m\u001b[0;34m(\u001b[0m\u001b[0mscreenName\u001b[0m\u001b[0;34m,\u001b[0m \u001b[0mbaseName\u001b[0m\u001b[0;34m,\u001b[0m \u001b[0mclassName\u001b[0m\u001b[0;34m,\u001b[0m \u001b[0minteractive\u001b[0m\u001b[0;34m,\u001b[0m \u001b[0mwantobjects\u001b[0m\u001b[0;34m,\u001b[0m \u001b[0museTk\u001b[0m\u001b[0;34m,\u001b[0m \u001b[0msync\u001b[0m\u001b[0;34m,\u001b[0m \u001b[0muse\u001b[0m\u001b[0;34m)\u001b[0m\u001b[0;34m\u001b[0m\u001b[0;34m\u001b[0m\u001b[0m\n\u001b[0m\u001b[1;32m   2024\u001b[0m         \u001b[0;32mif\u001b[0m \u001b[0museTk\u001b[0m\u001b[0;34m:\u001b[0m\u001b[0;34m\u001b[0m\u001b[0;34m\u001b[0m\u001b[0m\n\u001b[1;32m   2025\u001b[0m             \u001b[0mself\u001b[0m\u001b[0;34m.\u001b[0m\u001b[0m_loadtk\u001b[0m\u001b[0;34m(\u001b[0m\u001b[0;34m)\u001b[0m\u001b[0;34m\u001b[0m\u001b[0;34m\u001b[0m\u001b[0m\n",
            "\u001b[0;31mTclError\u001b[0m: no display name and no $DISPLAY environment variable"
          ]
        },
        {
          "output_type": "execute_result",
          "data": {
            "text/plain": [
              "Tree('S', [Tree('chk_name', [('we', 'PRP')]), ('are', 'VBP'), ('here', 'RB'), ('to', 'TO'), Tree('chk_name', [('learn', 'VB')]), ('about', 'IN'), ('natural', 'JJ'), ('language', 'NN'), ('processing', 'NN')])"
            ]
          },
          "metadata": {
            "tags": []
          },
          "execution_count": 18
        }
      ]
    },
    {
      "cell_type": "markdown",
      "metadata": {
        "id": "mei0v-zhX8hx",
        "colab_type": "text"
      },
      "source": [
        "### CFG:"
      ]
    },
    {
      "cell_type": "code",
      "metadata": {
        "id": "evUpeeaIX7vI",
        "colab_type": "code",
        "colab": {}
      },
      "source": [
        "CFG_Grammar = nltk.CFG.fromstring(\"\"\"\n",
        "\n",
        "s -> NP VP\n",
        "VP -> V N\n",
        "V -> \"saw\"|\"met\"\n",
        "NP -> \"John\"|\"Jim\"\n",
        "N -> \"dog\"|\"cat\"\n",
        "\"\"\"\n",
        ")"
      ],
      "execution_count": 0,
      "outputs": []
    },
    {
      "cell_type": "code",
      "metadata": {
        "id": "8oQjyWlZZCXY",
        "colab_type": "code",
        "colab": {
          "base_uri": "https://localhost:8080/",
          "height": 153
        },
        "outputId": "dd22019e-26ab-488a-8553-dfc3bedcf3c6"
      },
      "source": [
        "from nltk.parse.generate import generate, demo_grammar\n",
        "# Possible list of sentences that can be generated using the rules:\n",
        "for sentence in generate(CFG_Grammar):\n",
        "  print(\" \".join(sentence))"
      ],
      "execution_count": 20,
      "outputs": [
        {
          "output_type": "stream",
          "text": [
            "John saw dog\n",
            "John saw cat\n",
            "John met dog\n",
            "John met cat\n",
            "Jim saw dog\n",
            "Jim saw cat\n",
            "Jim met dog\n",
            "Jim met cat\n"
          ],
          "name": "stdout"
        }
      ]
    },
    {
      "cell_type": "code",
      "metadata": {
        "id": "TgE0t_llaOFq",
        "colab_type": "code",
        "colab": {
          "base_uri": "https://localhost:8080/",
          "height": 153
        },
        "outputId": "538000ff-bfd7-4917-8616-1bdf10935f5c"
      },
      "source": [
        "#Different rules of grammar for the sentence formation using the productions():\n",
        "CFG_Grammar.productions()"
      ],
      "execution_count": 21,
      "outputs": [
        {
          "output_type": "execute_result",
          "data": {
            "text/plain": [
              "[s -> NP VP,\n",
              " VP -> V N,\n",
              " V -> 'saw',\n",
              " V -> 'met',\n",
              " NP -> 'John',\n",
              " NP -> 'Jim',\n",
              " N -> 'dog',\n",
              " N -> 'cat']"
            ]
          },
          "metadata": {
            "tags": []
          },
          "execution_count": 21
        }
      ]
    },
    {
      "cell_type": "markdown",
      "metadata": {
        "id": "hrmOs0XaahXg",
        "colab_type": "text"
      },
      "source": [
        "**Automating Text Paraphrasing:**"
      ]
    },
    {
      "cell_type": "code",
      "metadata": {
        "id": "qsgoxPZ6ag-J",
        "colab_type": "code",
        "colab": {}
      },
      "source": [
        "def cfg_parse(sentence):\n",
        "  sent_tk = nltk.pos_tag(word_tokenize(sentence))\n",
        "  for one in sent_tk:\n",
        "    if one[1] == 'NNP':\n",
        "      s_NP = \"\\'\"+one[0]+\"\\'\"\n",
        "    if one[1] == 'VBD' or one[1] == 'VBN':\n",
        "      s_V =\"\\'\"+one[0]+\"\\'\"\n",
        "    if one[1] == 'NN':\n",
        "      s_N = \"\\'\"+one[0]+\"\\'\"\n",
        "    else:\n",
        "      pass\n",
        "  cfg_grammar = nltk.CFG.fromstring (\"\"\"\n",
        "  \n",
        "  s -> NP VP\n",
        "  VP -> V N\n",
        "  NP -> {}\n",
        "  V -> {}\n",
        "  N -> {}\n",
        "  \"\"\".format(s_NP, s_V, s_N))\n",
        "  for sentence in generate(CFG_Grammar):\n",
        "    print(\" \".join(sentence))\n",
        "  return"
      ],
      "execution_count": 0,
      "outputs": []
    },
    {
      "cell_type": "code",
      "metadata": {
        "id": "FWU-ibCBci2g",
        "colab_type": "code",
        "colab": {
          "base_uri": "https://localhost:8080/",
          "height": 153
        },
        "outputId": "c81d33e8-a956-488b-c4d6-b92a9bb4ddde"
      },
      "source": [
        "cfg_parse(\"John saw a long white boat\")"
      ],
      "execution_count": 23,
      "outputs": [
        {
          "output_type": "stream",
          "text": [
            "John saw dog\n",
            "John saw cat\n",
            "John met dog\n",
            "John met cat\n",
            "Jim saw dog\n",
            "Jim saw cat\n",
            "Jim met dog\n",
            "Jim met cat\n"
          ],
          "name": "stdout"
        }
      ]
    },
    {
      "cell_type": "markdown",
      "metadata": {
        "id": "BoaHsxC0iVAh",
        "colab_type": "text"
      },
      "source": [
        "[Sample codes for CFG](http://www.nltk.org/howto/generate.html)"
      ]
    }
  ]
}